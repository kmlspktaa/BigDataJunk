{
  "nbformat": 4,
  "nbformat_minor": 0,
  "metadata": {
    "colab": {
      "name": "spotify_data_extraction_2.ipynb",
      "provenance": [],
      "collapsed_sections": [],
      "authorship_tag": "ABX9TyO7/wFNGrKI7XgXpr7pixlR",
      "include_colab_link": true
    },
    "kernelspec": {
      "name": "python3",
      "display_name": "Python 3"
    }
  },
  "cells": [
    {
      "cell_type": "markdown",
      "metadata": {
        "id": "view-in-github",
        "colab_type": "text"
      },
      "source": [
        "<a href=\"https://colab.research.google.com/github/Buchiexplores/Big_Data_Training/blob/master/HIVE_HBASE/Python_Notebooks/spotify_data_extraction_2.ipynb\" target=\"_parent\"><img src=\"https://colab.research.google.com/assets/colab-badge.svg\" alt=\"Open In Colab\"/></a>"
      ]
    },
    {
      "cell_type": "code",
      "metadata": {
        "id": "xcQUI0yM7360",
        "outputId": "d23ac355-fa41-4989-cf64-29687195d10f",
        "colab": {
          "base_uri": "https://localhost:8080/",
          "height": 207
        }
      },
      "source": [
        "pip install spotipy"
      ],
      "execution_count": null,
      "outputs": [
        {
          "output_type": "stream",
          "text": [
            "Collecting spotipy\n",
            "  Downloading https://files.pythonhosted.org/packages/9f/21/9dcb15600495e8474befd275510e4d7aadfa796554d2f414b57f73731323/spotipy-2.16.0-py3-none-any.whl\n",
            "Requirement already satisfied: six>=1.10.0 in /usr/local/lib/python3.6/dist-packages (from spotipy) (1.15.0)\n",
            "Requirement already satisfied: requests>=2.20.0 in /usr/local/lib/python3.6/dist-packages (from spotipy) (2.23.0)\n",
            "Requirement already satisfied: certifi>=2017.4.17 in /usr/local/lib/python3.6/dist-packages (from requests>=2.20.0->spotipy) (2020.6.20)\n",
            "Requirement already satisfied: chardet<4,>=3.0.2 in /usr/local/lib/python3.6/dist-packages (from requests>=2.20.0->spotipy) (3.0.4)\n",
            "Requirement already satisfied: urllib3!=1.25.0,!=1.25.1,<1.26,>=1.21.1 in /usr/local/lib/python3.6/dist-packages (from requests>=2.20.0->spotipy) (1.24.3)\n",
            "Requirement already satisfied: idna<3,>=2.5 in /usr/local/lib/python3.6/dist-packages (from requests>=2.20.0->spotipy) (2.10)\n",
            "Installing collected packages: spotipy\n",
            "Successfully installed spotipy-2.16.0\n"
          ],
          "name": "stdout"
        }
      ]
    },
    {
      "cell_type": "code",
      "metadata": {
        "id": "iUjWCSPF5n91"
      },
      "source": [
        "import spotipy\n",
        "from spotipy.oauth2 import SpotifyClientCredentials\n",
        "\n",
        "cid ='fda982ead35c41c2b8b3e2763e7a0304'\n",
        "secret = '7de8b0a3d1ca447f8db9d509ce8e5f1d'\n",
        "\n",
        "client_credentials_manager = SpotifyClientCredentials(client_id=cid, client_secret=secret)\n",
        "sp = spotipy.Spotify(client_credentials_manager=client_credentials_manager)"
      ],
      "execution_count": null,
      "outputs": []
    },
    {
      "cell_type": "code",
      "metadata": {
        "id": "k9qpJ_pg5zHf",
        "outputId": "fd55207f-a1f2-4b2a-e19c-0085ef874acc",
        "colab": {
          "base_uri": "https://localhost:8080/",
          "height": 34
        }
      },
      "source": [
        "# timeit library to measure the time needed to run this code\n",
        "import timeit\n",
        "start = timeit.default_timer()\n",
        "\n",
        "# create empty lists where the results are going to be stored\n",
        "artist_name = []\n",
        "track_name = []\n",
        "popularity = []\n",
        "track_id = []\n",
        "year = []\n",
        "y_start = 1920  #Year Start\n",
        "y_end = 2021  #Year End\n",
        "\n",
        "for y in range(y_start,y_end,1):\n",
        "  for i in range(0,2000,50):\n",
        "      name = 'Define artist name' #Popularity by artist name\n",
        "\n",
        "      track_results = sp.search('year:'+ str(y), type='track',limit=50,offset=i)\n",
        "      for i, t in enumerate(track_results['tracks']['items']):\n",
        "          artist_name.append(t['artists'][0]['name'])\n",
        "          track_name.append(t['name'])\n",
        "          track_id.append(t['id'])\n",
        "          popularity.append(t['popularity'])\n",
        "          year.append(y)\n",
        "      \n",
        "\n",
        "stop = timeit.default_timer()\n",
        "print ('Time to run this code (in seconds):', stop - start)"
      ],
      "execution_count": null,
      "outputs": [
        {
          "output_type": "stream",
          "text": [
            "Time to run this code (in seconds): 566.4748341019999\n"
          ],
          "name": "stdout"
        }
      ]
    },
    {
      "cell_type": "code",
      "metadata": {
        "id": "kJMuJQqj6Fr8",
        "outputId": "22332570-1f16-4f24-c561-8e0a92ad9516",
        "colab": {
          "base_uri": "https://localhost:8080/",
          "height": 34
        }
      },
      "source": [
        "print('number of elements in the track_id list:', len(track_id))"
      ],
      "execution_count": null,
      "outputs": [
        {
          "output_type": "stream",
          "text": [
            "number of elements in the track_id list: 172275\n"
          ],
          "name": "stdout"
        }
      ]
    },
    {
      "cell_type": "code",
      "metadata": {
        "id": "Kz1LtGyQ6JHr",
        "outputId": "d7740888-7e5f-464a-8bc2-fe47f5efaed0",
        "colab": {
          "base_uri": "https://localhost:8080/",
          "height": 221
        }
      },
      "source": [
        "import pandas as pd\n",
        "\n",
        "df_tracks = pd.DataFrame({'artist_name':artist_name,'track_name':track_name,'track_id':track_id,'popularity':popularity,'year':year})\n",
        "print(df_tracks.shape)\n",
        "df_tracks.head()"
      ],
      "execution_count": null,
      "outputs": [
        {
          "output_type": "stream",
          "text": [
            "(172275, 5)\n"
          ],
          "name": "stdout"
        },
        {
          "output_type": "execute_result",
          "data": {
            "text/html": [
              "<div>\n",
              "<style scoped>\n",
              "    .dataframe tbody tr th:only-of-type {\n",
              "        vertical-align: middle;\n",
              "    }\n",
              "\n",
              "    .dataframe tbody tr th {\n",
              "        vertical-align: top;\n",
              "    }\n",
              "\n",
              "    .dataframe thead th {\n",
              "        text-align: right;\n",
              "    }\n",
              "</style>\n",
              "<table border=\"1\" class=\"dataframe\">\n",
              "  <thead>\n",
              "    <tr style=\"text-align: right;\">\n",
              "      <th></th>\n",
              "      <th>artist_name</th>\n",
              "      <th>track_name</th>\n",
              "      <th>track_id</th>\n",
              "      <th>popularity</th>\n",
              "      <th>year</th>\n",
              "    </tr>\n",
              "  </thead>\n",
              "  <tbody>\n",
              "    <tr>\n",
              "      <th>0</th>\n",
              "      <td>Mamie Smith</td>\n",
              "      <td>Keep A Song In Your Soul</td>\n",
              "      <td>0cS0A1fUEUd1EW3FcF8AEI</td>\n",
              "      <td>15</td>\n",
              "      <td>1920</td>\n",
              "    </tr>\n",
              "    <tr>\n",
              "      <th>1</th>\n",
              "      <td>Screamin' Jay Hawkins</td>\n",
              "      <td>I Put A Spell On You</td>\n",
              "      <td>0hbkKFIJm7Z05H8Zl9w30f</td>\n",
              "      <td>9</td>\n",
              "      <td>1920</td>\n",
              "    </tr>\n",
              "    <tr>\n",
              "      <th>2</th>\n",
              "      <td>Oscar Velazquez</td>\n",
              "      <td>True House Music - Xavier Santos &amp; Carlos Gomi...</td>\n",
              "      <td>19Lc5SfJJ5O1oaxY0fpwfh</td>\n",
              "      <td>17</td>\n",
              "      <td>1920</td>\n",
              "    </tr>\n",
              "    <tr>\n",
              "      <th>3</th>\n",
              "      <td>Mamie Smith &amp; Her Jazz Hounds</td>\n",
              "      <td>Crazy Blues - 78rpm Version</td>\n",
              "      <td>3HnrHGLE9u2MjHtdobfWl9</td>\n",
              "      <td>5</td>\n",
              "      <td>1920</td>\n",
              "    </tr>\n",
              "    <tr>\n",
              "      <th>4</th>\n",
              "      <td>696</td>\n",
              "      <td>After Life</td>\n",
              "      <td>3ajZwXiT7qpanVm5DcvcQF</td>\n",
              "      <td>4</td>\n",
              "      <td>1920</td>\n",
              "    </tr>\n",
              "  </tbody>\n",
              "</table>\n",
              "</div>"
            ],
            "text/plain": [
              "                     artist_name  ...  year\n",
              "0                    Mamie Smith  ...  1920\n",
              "1          Screamin' Jay Hawkins  ...  1920\n",
              "2                Oscar Velazquez  ...  1920\n",
              "3  Mamie Smith & Her Jazz Hounds  ...  1920\n",
              "4                            696  ...  1920\n",
              "\n",
              "[5 rows x 5 columns]"
            ]
          },
          "metadata": {
            "tags": []
          },
          "execution_count": 29
        }
      ]
    },
    {
      "cell_type": "code",
      "metadata": {
        "id": "AOQW1Plr6Mrr",
        "outputId": "53036871-d9da-4939-8e59-91cbe72dc896",
        "colab": {
          "base_uri": "https://localhost:8080/",
          "height": 221
        }
      },
      "source": [
        "df_tracks.info()"
      ],
      "execution_count": null,
      "outputs": [
        {
          "output_type": "stream",
          "text": [
            "<class 'pandas.core.frame.DataFrame'>\n",
            "RangeIndex: 172275 entries, 0 to 172274\n",
            "Data columns (total 5 columns):\n",
            " #   Column       Non-Null Count   Dtype \n",
            "---  ------       --------------   ----- \n",
            " 0   artist_name  172275 non-null  object\n",
            " 1   track_name   172275 non-null  object\n",
            " 2   track_id     172275 non-null  object\n",
            " 3   popularity   172275 non-null  int64 \n",
            " 4   year         172275 non-null  int64 \n",
            "dtypes: int64(2), object(3)\n",
            "memory usage: 6.6+ MB\n"
          ],
          "name": "stdout"
        }
      ]
    },
    {
      "cell_type": "code",
      "metadata": {
        "id": "BiidCBQR6Pch",
        "outputId": "bbb158ff-0b20-44b9-a08b-985fd0e64299",
        "colab": {
          "base_uri": "https://localhost:8080/",
          "height": 34
        }
      },
      "source": [
        "# group the entries by artist_name and track_name and check for duplicates\n",
        "\n",
        "grouped = df_tracks.groupby(['artist_name','track_name'], as_index=True).size()\n",
        "grouped[grouped > 1].count()"
      ],
      "execution_count": null,
      "outputs": [
        {
          "output_type": "execute_result",
          "data": {
            "text/plain": [
              "11787"
            ]
          },
          "metadata": {
            "tags": []
          },
          "execution_count": 31
        }
      ]
    },
    {
      "cell_type": "code",
      "metadata": {
        "id": "4CIBbgb46SBJ"
      },
      "source": [
        "df_tracks.drop_duplicates(subset=['artist_name','track_name'], inplace=True)"
      ],
      "execution_count": null,
      "outputs": []
    },
    {
      "cell_type": "code",
      "metadata": {
        "id": "8r7oMpC56VrM",
        "outputId": "d6e3ff8d-45b0-4e48-f652-cba8ac3c4c59",
        "colab": {
          "base_uri": "https://localhost:8080/",
          "height": 34
        }
      },
      "source": [
        "# doing the same grouping as before to verify the solution\n",
        "grouped_after_dropping = df_tracks.groupby(['artist_name','track_name'], as_index=True).size()\n",
        "grouped_after_dropping[grouped_after_dropping > 1].count()"
      ],
      "execution_count": null,
      "outputs": [
        {
          "output_type": "execute_result",
          "data": {
            "text/plain": [
              "0"
            ]
          },
          "metadata": {
            "tags": []
          },
          "execution_count": 33
        }
      ]
    },
    {
      "cell_type": "code",
      "metadata": {
        "id": "4O9NbCY76Ykw",
        "outputId": "284e8383-5c98-478c-b910-dd9bf354ea9d",
        "colab": {
          "base_uri": "https://localhost:8080/",
          "height": 119
        }
      },
      "source": [
        "df_tracks[df_tracks.duplicated(subset=['artist_name','track_name'],keep=False)].count()"
      ],
      "execution_count": null,
      "outputs": [
        {
          "output_type": "execute_result",
          "data": {
            "text/plain": [
              "artist_name    0\n",
              "track_name     0\n",
              "track_id       0\n",
              "popularity     0\n",
              "year           0\n",
              "dtype: int64"
            ]
          },
          "metadata": {
            "tags": []
          },
          "execution_count": 34
        }
      ]
    },
    {
      "cell_type": "code",
      "metadata": {
        "id": "R-9QThd56bZK",
        "outputId": "d13dfd04-9c25-44a2-e5b2-4d72a81f9c55",
        "colab": {
          "base_uri": "https://localhost:8080/",
          "height": 34
        }
      },
      "source": [
        "df_tracks.shape"
      ],
      "execution_count": null,
      "outputs": [
        {
          "output_type": "execute_result",
          "data": {
            "text/plain": [
              "(157758, 5)"
            ]
          },
          "metadata": {
            "tags": []
          },
          "execution_count": 35
        }
      ]
    },
    {
      "cell_type": "code",
      "metadata": {
        "id": "_zBylSMK6eOl",
        "outputId": "d3922635-2e3c-42bd-ec3e-5004017014d1",
        "colab": {
          "base_uri": "https://localhost:8080/",
          "height": 51
        }
      },
      "source": [
        "# again measuring the time\n",
        "start = timeit.default_timer()\n",
        "\n",
        "# empty list, batchsize and the counter for None results\n",
        "rows = []\n",
        "batchsize = 100\n",
        "None_counter = 0\n",
        "\n",
        "for i in range(0,len(df_tracks['track_id']),batchsize):\n",
        "    batch = df_tracks['track_id'][i:i+batchsize]\n",
        "    feature_results = sp.audio_features(batch)\n",
        "    for i, t in enumerate(feature_results):\n",
        "        if t == None:\n",
        "            None_counter = None_counter + 1\n",
        "        else:\n",
        "            rows.append(t)\n",
        "            \n",
        "print('Number of tracks where no audio features were available:',None_counter)\n",
        "\n",
        "stop = timeit.default_timer()\n",
        "print ('Time to run this code (in seconds):',stop - start)"
      ],
      "execution_count": null,
      "outputs": [
        {
          "output_type": "stream",
          "text": [
            "Number of tracks where no audio features were available: 2\n",
            "Time to run this code (in seconds): 327.9879792900001\n"
          ],
          "name": "stdout"
        }
      ]
    },
    {
      "cell_type": "code",
      "metadata": {
        "id": "baoE_keT6g50",
        "outputId": "e3bce42b-4cd5-47b6-fd4b-627dfcfe9841",
        "colab": {
          "base_uri": "https://localhost:8080/",
          "height": 34
        }
      },
      "source": [
        "print('number of elements in the track_id list:', len(rows))"
      ],
      "execution_count": null,
      "outputs": [
        {
          "output_type": "stream",
          "text": [
            "number of elements in the track_id list: 157756\n"
          ],
          "name": "stdout"
        }
      ]
    },
    {
      "cell_type": "code",
      "metadata": {
        "id": "8wCYvFDx6jOC",
        "outputId": "3b6d2cf4-6cd1-40f6-83ae-a2682062f259",
        "colab": {
          "base_uri": "https://localhost:8080/",
          "height": 326
        }
      },
      "source": [
        "df_audio_features = pd.DataFrame.from_dict(rows,orient='columns')\n",
        "print(\"Shape of the dataset:\", df_audio_features.shape)\n",
        "df_audio_features.head()"
      ],
      "execution_count": null,
      "outputs": [
        {
          "output_type": "stream",
          "text": [
            "Shape of the dataset: (157756, 18)\n"
          ],
          "name": "stdout"
        },
        {
          "output_type": "execute_result",
          "data": {
            "text/html": [
              "<div>\n",
              "<style scoped>\n",
              "    .dataframe tbody tr th:only-of-type {\n",
              "        vertical-align: middle;\n",
              "    }\n",
              "\n",
              "    .dataframe tbody tr th {\n",
              "        vertical-align: top;\n",
              "    }\n",
              "\n",
              "    .dataframe thead th {\n",
              "        text-align: right;\n",
              "    }\n",
              "</style>\n",
              "<table border=\"1\" class=\"dataframe\">\n",
              "  <thead>\n",
              "    <tr style=\"text-align: right;\">\n",
              "      <th></th>\n",
              "      <th>danceability</th>\n",
              "      <th>energy</th>\n",
              "      <th>key</th>\n",
              "      <th>loudness</th>\n",
              "      <th>mode</th>\n",
              "      <th>speechiness</th>\n",
              "      <th>acousticness</th>\n",
              "      <th>instrumentalness</th>\n",
              "      <th>liveness</th>\n",
              "      <th>valence</th>\n",
              "      <th>tempo</th>\n",
              "      <th>type</th>\n",
              "      <th>id</th>\n",
              "      <th>uri</th>\n",
              "      <th>track_href</th>\n",
              "      <th>analysis_url</th>\n",
              "      <th>duration_ms</th>\n",
              "      <th>time_signature</th>\n",
              "    </tr>\n",
              "  </thead>\n",
              "  <tbody>\n",
              "    <tr>\n",
              "      <th>0</th>\n",
              "      <td>0.598</td>\n",
              "      <td>0.224</td>\n",
              "      <td>5</td>\n",
              "      <td>-12.628</td>\n",
              "      <td>0</td>\n",
              "      <td>0.0936</td>\n",
              "      <td>0.991000</td>\n",
              "      <td>0.000522</td>\n",
              "      <td>0.3790</td>\n",
              "      <td>0.6340</td>\n",
              "      <td>149.976</td>\n",
              "      <td>audio_features</td>\n",
              "      <td>0cS0A1fUEUd1EW3FcF8AEI</td>\n",
              "      <td>spotify:track:0cS0A1fUEUd1EW3FcF8AEI</td>\n",
              "      <td>https://api.spotify.com/v1/tracks/0cS0A1fUEUd1...</td>\n",
              "      <td>https://api.spotify.com/v1/audio-analysis/0cS0...</td>\n",
              "      <td>168333</td>\n",
              "      <td>4</td>\n",
              "    </tr>\n",
              "    <tr>\n",
              "      <th>1</th>\n",
              "      <td>0.852</td>\n",
              "      <td>0.517</td>\n",
              "      <td>5</td>\n",
              "      <td>-7.261</td>\n",
              "      <td>0</td>\n",
              "      <td>0.0534</td>\n",
              "      <td>0.643000</td>\n",
              "      <td>0.026400</td>\n",
              "      <td>0.0809</td>\n",
              "      <td>0.9500</td>\n",
              "      <td>86.889</td>\n",
              "      <td>audio_features</td>\n",
              "      <td>0hbkKFIJm7Z05H8Zl9w30f</td>\n",
              "      <td>spotify:track:0hbkKFIJm7Z05H8Zl9w30f</td>\n",
              "      <td>https://api.spotify.com/v1/tracks/0hbkKFIJm7Z0...</td>\n",
              "      <td>https://api.spotify.com/v1/audio-analysis/0hbk...</td>\n",
              "      <td>150200</td>\n",
              "      <td>4</td>\n",
              "    </tr>\n",
              "    <tr>\n",
              "      <th>2</th>\n",
              "      <td>0.730</td>\n",
              "      <td>0.798</td>\n",
              "      <td>2</td>\n",
              "      <td>-7.311</td>\n",
              "      <td>1</td>\n",
              "      <td>0.0425</td>\n",
              "      <td>0.000173</td>\n",
              "      <td>0.801000</td>\n",
              "      <td>0.1280</td>\n",
              "      <td>0.0422</td>\n",
              "      <td>127.997</td>\n",
              "      <td>audio_features</td>\n",
              "      <td>19Lc5SfJJ5O1oaxY0fpwfh</td>\n",
              "      <td>spotify:track:19Lc5SfJJ5O1oaxY0fpwfh</td>\n",
              "      <td>https://api.spotify.com/v1/tracks/19Lc5SfJJ5O1...</td>\n",
              "      <td>https://api.spotify.com/v1/audio-analysis/19Lc...</td>\n",
              "      <td>422087</td>\n",
              "      <td>4</td>\n",
              "    </tr>\n",
              "    <tr>\n",
              "      <th>3</th>\n",
              "      <td>0.424</td>\n",
              "      <td>0.245</td>\n",
              "      <td>5</td>\n",
              "      <td>-11.470</td>\n",
              "      <td>1</td>\n",
              "      <td>0.0397</td>\n",
              "      <td>0.996000</td>\n",
              "      <td>0.799000</td>\n",
              "      <td>0.2350</td>\n",
              "      <td>0.4770</td>\n",
              "      <td>103.870</td>\n",
              "      <td>audio_features</td>\n",
              "      <td>3HnrHGLE9u2MjHtdobfWl9</td>\n",
              "      <td>spotify:track:3HnrHGLE9u2MjHtdobfWl9</td>\n",
              "      <td>https://api.spotify.com/v1/tracks/3HnrHGLE9u2M...</td>\n",
              "      <td>https://api.spotify.com/v1/audio-analysis/3Hnr...</td>\n",
              "      <td>198627</td>\n",
              "      <td>4</td>\n",
              "    </tr>\n",
              "    <tr>\n",
              "      <th>4</th>\n",
              "      <td>0.653</td>\n",
              "      <td>0.291</td>\n",
              "      <td>1</td>\n",
              "      <td>-16.198</td>\n",
              "      <td>0</td>\n",
              "      <td>0.0648</td>\n",
              "      <td>0.887000</td>\n",
              "      <td>0.000236</td>\n",
              "      <td>0.1050</td>\n",
              "      <td>0.3700</td>\n",
              "      <td>119.869</td>\n",
              "      <td>audio_features</td>\n",
              "      <td>3ajZwXiT7qpanVm5DcvcQF</td>\n",
              "      <td>spotify:track:3ajZwXiT7qpanVm5DcvcQF</td>\n",
              "      <td>https://api.spotify.com/v1/tracks/3ajZwXiT7qpa...</td>\n",
              "      <td>https://api.spotify.com/v1/audio-analysis/3ajZ...</td>\n",
              "      <td>106214</td>\n",
              "      <td>4</td>\n",
              "    </tr>\n",
              "  </tbody>\n",
              "</table>\n",
              "</div>"
            ],
            "text/plain": [
              "   danceability  energy  ...  duration_ms  time_signature\n",
              "0         0.598   0.224  ...       168333               4\n",
              "1         0.852   0.517  ...       150200               4\n",
              "2         0.730   0.798  ...       422087               4\n",
              "3         0.424   0.245  ...       198627               4\n",
              "4         0.653   0.291  ...       106214               4\n",
              "\n",
              "[5 rows x 18 columns]"
            ]
          },
          "metadata": {
            "tags": []
          },
          "execution_count": 44
        }
      ]
    },
    {
      "cell_type": "code",
      "metadata": {
        "id": "24F_y7Xh6meB",
        "outputId": "cf43f92a-12cb-4c94-f43a-1d4124a643b4",
        "colab": {
          "base_uri": "https://localhost:8080/",
          "height": 442
        }
      },
      "source": [
        "df_audio_features.info()"
      ],
      "execution_count": null,
      "outputs": [
        {
          "output_type": "stream",
          "text": [
            "<class 'pandas.core.frame.DataFrame'>\n",
            "RangeIndex: 157756 entries, 0 to 157755\n",
            "Data columns (total 18 columns):\n",
            " #   Column            Non-Null Count   Dtype  \n",
            "---  ------            --------------   -----  \n",
            " 0   danceability      157756 non-null  float64\n",
            " 1   energy            157756 non-null  float64\n",
            " 2   key               157756 non-null  int64  \n",
            " 3   loudness          157756 non-null  float64\n",
            " 4   mode              157756 non-null  int64  \n",
            " 5   speechiness       157756 non-null  float64\n",
            " 6   acousticness      157756 non-null  float64\n",
            " 7   instrumentalness  157756 non-null  float64\n",
            " 8   liveness          157756 non-null  float64\n",
            " 9   valence           157756 non-null  float64\n",
            " 10  tempo             157756 non-null  float64\n",
            " 11  type              157756 non-null  object \n",
            " 12  id                157756 non-null  object \n",
            " 13  uri               157756 non-null  object \n",
            " 14  track_href        157756 non-null  object \n",
            " 15  analysis_url      157756 non-null  object \n",
            " 16  duration_ms       157756 non-null  int64  \n",
            " 17  time_signature    157756 non-null  int64  \n",
            "dtypes: float64(9), int64(4), object(5)\n",
            "memory usage: 21.7+ MB\n"
          ],
          "name": "stdout"
        }
      ]
    },
    {
      "cell_type": "code",
      "metadata": {
        "id": "a5sUDmrv6qZP",
        "outputId": "80382b72-0bee-4ba2-d2b6-b98c5c8423b3",
        "colab": {
          "base_uri": "https://localhost:8080/",
          "height": 34
        }
      },
      "source": [
        "#columns_to_drop = ['analysis_url','track_href','type','uri']\n",
        "#df_audio_features.drop(columns_to_drop, axis=1,inplace=True)\n",
        "\n",
        "df_audio_features.rename(columns={'id': 'track_id'}, inplace=True)\n",
        "\n",
        "df_audio_features.shape"
      ],
      "execution_count": null,
      "outputs": [
        {
          "output_type": "execute_result",
          "data": {
            "text/plain": [
              "(157756, 18)"
            ]
          },
          "metadata": {
            "tags": []
          },
          "execution_count": 47
        }
      ]
    },
    {
      "cell_type": "code",
      "metadata": {
        "id": "LtNsUxG96trM",
        "outputId": "23414523-b014-459c-90e7-08120cc35870",
        "colab": {
          "base_uri": "https://localhost:8080/",
          "height": 411
        }
      },
      "source": [
        "# merge both dataframes\n",
        "# the 'inner' method will make sure that we only keep track IDs present in both datasets\n",
        "df = pd.merge(df_tracks,df_audio_features,on='track_id',how='inner')\n",
        "print(\"Shape of the dataset:\", df_audio_features.shape)\n",
        "df.head()"
      ],
      "execution_count": null,
      "outputs": [
        {
          "output_type": "stream",
          "text": [
            "Shape of the dataset: (157756, 18)\n"
          ],
          "name": "stdout"
        },
        {
          "output_type": "execute_result",
          "data": {
            "text/html": [
              "<div>\n",
              "<style scoped>\n",
              "    .dataframe tbody tr th:only-of-type {\n",
              "        vertical-align: middle;\n",
              "    }\n",
              "\n",
              "    .dataframe tbody tr th {\n",
              "        vertical-align: top;\n",
              "    }\n",
              "\n",
              "    .dataframe thead th {\n",
              "        text-align: right;\n",
              "    }\n",
              "</style>\n",
              "<table border=\"1\" class=\"dataframe\">\n",
              "  <thead>\n",
              "    <tr style=\"text-align: right;\">\n",
              "      <th></th>\n",
              "      <th>artist_name</th>\n",
              "      <th>track_name</th>\n",
              "      <th>track_id</th>\n",
              "      <th>popularity</th>\n",
              "      <th>year</th>\n",
              "      <th>danceability</th>\n",
              "      <th>energy</th>\n",
              "      <th>key</th>\n",
              "      <th>loudness</th>\n",
              "      <th>mode</th>\n",
              "      <th>speechiness</th>\n",
              "      <th>acousticness</th>\n",
              "      <th>instrumentalness</th>\n",
              "      <th>liveness</th>\n",
              "      <th>valence</th>\n",
              "      <th>tempo</th>\n",
              "      <th>type</th>\n",
              "      <th>uri</th>\n",
              "      <th>track_href</th>\n",
              "      <th>analysis_url</th>\n",
              "      <th>duration_ms</th>\n",
              "      <th>time_signature</th>\n",
              "    </tr>\n",
              "  </thead>\n",
              "  <tbody>\n",
              "    <tr>\n",
              "      <th>0</th>\n",
              "      <td>Mamie Smith</td>\n",
              "      <td>Keep A Song In Your Soul</td>\n",
              "      <td>0cS0A1fUEUd1EW3FcF8AEI</td>\n",
              "      <td>15</td>\n",
              "      <td>1920</td>\n",
              "      <td>0.598</td>\n",
              "      <td>0.224</td>\n",
              "      <td>5</td>\n",
              "      <td>-12.628</td>\n",
              "      <td>0</td>\n",
              "      <td>0.0936</td>\n",
              "      <td>0.991000</td>\n",
              "      <td>0.000522</td>\n",
              "      <td>0.3790</td>\n",
              "      <td>0.6340</td>\n",
              "      <td>149.976</td>\n",
              "      <td>audio_features</td>\n",
              "      <td>spotify:track:0cS0A1fUEUd1EW3FcF8AEI</td>\n",
              "      <td>https://api.spotify.com/v1/tracks/0cS0A1fUEUd1...</td>\n",
              "      <td>https://api.spotify.com/v1/audio-analysis/0cS0...</td>\n",
              "      <td>168333</td>\n",
              "      <td>4</td>\n",
              "    </tr>\n",
              "    <tr>\n",
              "      <th>1</th>\n",
              "      <td>Screamin' Jay Hawkins</td>\n",
              "      <td>I Put A Spell On You</td>\n",
              "      <td>0hbkKFIJm7Z05H8Zl9w30f</td>\n",
              "      <td>9</td>\n",
              "      <td>1920</td>\n",
              "      <td>0.852</td>\n",
              "      <td>0.517</td>\n",
              "      <td>5</td>\n",
              "      <td>-7.261</td>\n",
              "      <td>0</td>\n",
              "      <td>0.0534</td>\n",
              "      <td>0.643000</td>\n",
              "      <td>0.026400</td>\n",
              "      <td>0.0809</td>\n",
              "      <td>0.9500</td>\n",
              "      <td>86.889</td>\n",
              "      <td>audio_features</td>\n",
              "      <td>spotify:track:0hbkKFIJm7Z05H8Zl9w30f</td>\n",
              "      <td>https://api.spotify.com/v1/tracks/0hbkKFIJm7Z0...</td>\n",
              "      <td>https://api.spotify.com/v1/audio-analysis/0hbk...</td>\n",
              "      <td>150200</td>\n",
              "      <td>4</td>\n",
              "    </tr>\n",
              "    <tr>\n",
              "      <th>2</th>\n",
              "      <td>Oscar Velazquez</td>\n",
              "      <td>True House Music - Xavier Santos &amp; Carlos Gomi...</td>\n",
              "      <td>19Lc5SfJJ5O1oaxY0fpwfh</td>\n",
              "      <td>17</td>\n",
              "      <td>1920</td>\n",
              "      <td>0.730</td>\n",
              "      <td>0.798</td>\n",
              "      <td>2</td>\n",
              "      <td>-7.311</td>\n",
              "      <td>1</td>\n",
              "      <td>0.0425</td>\n",
              "      <td>0.000173</td>\n",
              "      <td>0.801000</td>\n",
              "      <td>0.1280</td>\n",
              "      <td>0.0422</td>\n",
              "      <td>127.997</td>\n",
              "      <td>audio_features</td>\n",
              "      <td>spotify:track:19Lc5SfJJ5O1oaxY0fpwfh</td>\n",
              "      <td>https://api.spotify.com/v1/tracks/19Lc5SfJJ5O1...</td>\n",
              "      <td>https://api.spotify.com/v1/audio-analysis/19Lc...</td>\n",
              "      <td>422087</td>\n",
              "      <td>4</td>\n",
              "    </tr>\n",
              "    <tr>\n",
              "      <th>3</th>\n",
              "      <td>Mamie Smith &amp; Her Jazz Hounds</td>\n",
              "      <td>Crazy Blues - 78rpm Version</td>\n",
              "      <td>3HnrHGLE9u2MjHtdobfWl9</td>\n",
              "      <td>5</td>\n",
              "      <td>1920</td>\n",
              "      <td>0.424</td>\n",
              "      <td>0.245</td>\n",
              "      <td>5</td>\n",
              "      <td>-11.470</td>\n",
              "      <td>1</td>\n",
              "      <td>0.0397</td>\n",
              "      <td>0.996000</td>\n",
              "      <td>0.799000</td>\n",
              "      <td>0.2350</td>\n",
              "      <td>0.4770</td>\n",
              "      <td>103.870</td>\n",
              "      <td>audio_features</td>\n",
              "      <td>spotify:track:3HnrHGLE9u2MjHtdobfWl9</td>\n",
              "      <td>https://api.spotify.com/v1/tracks/3HnrHGLE9u2M...</td>\n",
              "      <td>https://api.spotify.com/v1/audio-analysis/3Hnr...</td>\n",
              "      <td>198627</td>\n",
              "      <td>4</td>\n",
              "    </tr>\n",
              "    <tr>\n",
              "      <th>4</th>\n",
              "      <td>696</td>\n",
              "      <td>After Life</td>\n",
              "      <td>3ajZwXiT7qpanVm5DcvcQF</td>\n",
              "      <td>4</td>\n",
              "      <td>1920</td>\n",
              "      <td>0.653</td>\n",
              "      <td>0.291</td>\n",
              "      <td>1</td>\n",
              "      <td>-16.198</td>\n",
              "      <td>0</td>\n",
              "      <td>0.0648</td>\n",
              "      <td>0.887000</td>\n",
              "      <td>0.000236</td>\n",
              "      <td>0.1050</td>\n",
              "      <td>0.3700</td>\n",
              "      <td>119.869</td>\n",
              "      <td>audio_features</td>\n",
              "      <td>spotify:track:3ajZwXiT7qpanVm5DcvcQF</td>\n",
              "      <td>https://api.spotify.com/v1/tracks/3ajZwXiT7qpa...</td>\n",
              "      <td>https://api.spotify.com/v1/audio-analysis/3ajZ...</td>\n",
              "      <td>106214</td>\n",
              "      <td>4</td>\n",
              "    </tr>\n",
              "  </tbody>\n",
              "</table>\n",
              "</div>"
            ],
            "text/plain": [
              "                     artist_name  ... time_signature\n",
              "0                    Mamie Smith  ...              4\n",
              "1          Screamin' Jay Hawkins  ...              4\n",
              "2                Oscar Velazquez  ...              4\n",
              "3  Mamie Smith & Her Jazz Hounds  ...              4\n",
              "4                            696  ...              4\n",
              "\n",
              "[5 rows x 22 columns]"
            ]
          },
          "metadata": {
            "tags": []
          },
          "execution_count": 48
        }
      ]
    },
    {
      "cell_type": "code",
      "metadata": {
        "id": "MYDHg2JR6xz6",
        "outputId": "22aa8da7-0c9d-4e0f-ba7e-c7e8247441fd",
        "colab": {
          "base_uri": "https://localhost:8080/",
          "height": 510
        }
      },
      "source": [
        "df.info()"
      ],
      "execution_count": null,
      "outputs": [
        {
          "output_type": "stream",
          "text": [
            "<class 'pandas.core.frame.DataFrame'>\n",
            "Int64Index: 157756 entries, 0 to 157755\n",
            "Data columns (total 22 columns):\n",
            " #   Column            Non-Null Count   Dtype  \n",
            "---  ------            --------------   -----  \n",
            " 0   artist_name       157756 non-null  object \n",
            " 1   track_name        157756 non-null  object \n",
            " 2   track_id          157756 non-null  object \n",
            " 3   popularity        157756 non-null  int64  \n",
            " 4   year              157756 non-null  int64  \n",
            " 5   danceability      157756 non-null  float64\n",
            " 6   energy            157756 non-null  float64\n",
            " 7   key               157756 non-null  int64  \n",
            " 8   loudness          157756 non-null  float64\n",
            " 9   mode              157756 non-null  int64  \n",
            " 10  speechiness       157756 non-null  float64\n",
            " 11  acousticness      157756 non-null  float64\n",
            " 12  instrumentalness  157756 non-null  float64\n",
            " 13  liveness          157756 non-null  float64\n",
            " 14  valence           157756 non-null  float64\n",
            " 15  tempo             157756 non-null  float64\n",
            " 16  type              157756 non-null  object \n",
            " 17  uri               157756 non-null  object \n",
            " 18  track_href        157756 non-null  object \n",
            " 19  analysis_url      157756 non-null  object \n",
            " 20  duration_ms       157756 non-null  int64  \n",
            " 21  time_signature    157756 non-null  int64  \n",
            "dtypes: float64(9), int64(6), object(7)\n",
            "memory usage: 27.7+ MB\n"
          ],
          "name": "stdout"
        }
      ]
    },
    {
      "cell_type": "code",
      "metadata": {
        "id": "stu36YeD601y",
        "outputId": "79f760a8-6383-4393-9e52-4129c6a4a84b",
        "colab": {
          "base_uri": "https://localhost:8080/",
          "height": 69
        }
      },
      "source": [
        "df[df.duplicated(subset=['artist_name','track_name'],keep=False)]"
      ],
      "execution_count": null,
      "outputs": [
        {
          "output_type": "execute_result",
          "data": {
            "text/html": [
              "<div>\n",
              "<style scoped>\n",
              "    .dataframe tbody tr th:only-of-type {\n",
              "        vertical-align: middle;\n",
              "    }\n",
              "\n",
              "    .dataframe tbody tr th {\n",
              "        vertical-align: top;\n",
              "    }\n",
              "\n",
              "    .dataframe thead th {\n",
              "        text-align: right;\n",
              "    }\n",
              "</style>\n",
              "<table border=\"1\" class=\"dataframe\">\n",
              "  <thead>\n",
              "    <tr style=\"text-align: right;\">\n",
              "      <th></th>\n",
              "      <th>artist_name</th>\n",
              "      <th>track_name</th>\n",
              "      <th>track_id</th>\n",
              "      <th>popularity</th>\n",
              "      <th>year</th>\n",
              "      <th>danceability</th>\n",
              "      <th>energy</th>\n",
              "      <th>key</th>\n",
              "      <th>loudness</th>\n",
              "      <th>mode</th>\n",
              "      <th>speechiness</th>\n",
              "      <th>acousticness</th>\n",
              "      <th>instrumentalness</th>\n",
              "      <th>liveness</th>\n",
              "      <th>valence</th>\n",
              "      <th>tempo</th>\n",
              "      <th>type</th>\n",
              "      <th>uri</th>\n",
              "      <th>track_href</th>\n",
              "      <th>analysis_url</th>\n",
              "      <th>duration_ms</th>\n",
              "      <th>time_signature</th>\n",
              "    </tr>\n",
              "  </thead>\n",
              "  <tbody>\n",
              "  </tbody>\n",
              "</table>\n",
              "</div>"
            ],
            "text/plain": [
              "Empty DataFrame\n",
              "Columns: [artist_name, track_name, track_id, popularity, year, danceability, energy, key, loudness, mode, speechiness, acousticness, instrumentalness, liveness, valence, tempo, type, uri, track_href, analysis_url, duration_ms, time_signature]\n",
              "Index: []"
            ]
          },
          "metadata": {
            "tags": []
          },
          "execution_count": 50
        }
      ]
    },
    {
      "cell_type": "code",
      "metadata": {
        "id": "qM0HFRoR65PC"
      },
      "source": [
        "df.to_csv('Spotify.csv')"
      ],
      "execution_count": null,
      "outputs": []
    }
  ]
}