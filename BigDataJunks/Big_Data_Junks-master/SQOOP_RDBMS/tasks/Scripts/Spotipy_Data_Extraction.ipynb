{
  "nbformat": 4,
  "nbformat_minor": 0,
  "metadata": {
    "colab": {
      "name": "Spotipy_Data_Extraction.ipynb",
      "provenance": [],
      "collapsed_sections": [],
      "authorship_tag": "ABX9TyOCZhtNX6iNhpqA8ookQrKx",
      "include_colab_link": true
    },
    "kernelspec": {
      "name": "python3",
      "display_name": "Python 3"
    }
  },
  "cells": [
    {
      "cell_type": "markdown",
      "metadata": {
        "id": "view-in-github",
        "colab_type": "text"
      },
      "source": [
        "<a href=\"https://colab.research.google.com/github/Buchiexplores/Big_Data_Training/blob/master/Assignment5/Scripts/Spotipy_Data_Extraction.ipynb\" target=\"_parent\"><img src=\"https://colab.research.google.com/assets/colab-badge.svg\" alt=\"Open In Colab\"/></a>"
      ]
    },
    {
      "cell_type": "code",
      "metadata": {
        "id": "k9qbjbspfUTB"
      },
      "source": [
        "#Abuchi Okeke\n",
        "#10/04/2020\n",
        "#Python script to integrate Spotify Web APIs and extract data based on playlists using spotipy lib.\n",
        "\n",
        "#pip install spotipy"
      ],
      "execution_count": null,
      "outputs": []
    },
    {
      "cell_type": "code",
      "metadata": {
        "id": "W_72L8pOfiVh",
        "outputId": "ce4f5ed0-1df5-4e13-fc30-577c81e3ca0c",
        "colab": {
          "base_uri": "https://localhost:8080/",
          "height": 71
        }
      },
      "source": [
        "#import libs\n",
        "import spotipy\n",
        "import spotipy.util as util\n",
        "from spotipy.oauth2 import SpotifyClientCredentials\n",
        "\n",
        "#Users credentials\n",
        "CLIENT_ID = 'fda982ead35c41c2b8b3e2763e7a0304'\n",
        "CLIENT_SECRET = '7de8b0a3d1ca447f8db9d509ce8e5f1d'\n",
        "\n",
        "#generate token\n",
        "token = SpotifyClientCredentials(client_id=CLIENT_ID, client_secret=CLIENT_SECRET)\n",
        "cache_token = token.get_access_token()\n",
        "sp = spotipy.Spotify(cache_token)\n"
      ],
      "execution_count": null,
      "outputs": [
        {
          "output_type": "stream",
          "text": [
            "/usr/local/lib/python3.6/dist-packages/ipykernel_launcher.py:12: DeprecationWarning: You're using 'as_dict = True'.get_access_token will return the token string directly in future versions. Please adjust your code accordingly, or use get_cached_token instead.\n",
            "  if sys.path[0] == '':\n"
          ],
          "name": "stderr"
        }
      ]
    },
    {
      "cell_type": "code",
      "metadata": {
        "id": "QX0-yk9-fkr8"
      },
      "source": [
        "#test integration\n",
        "user_id = \"tjmaml1jx29bsbqeazj9vir0o\"\n",
        "playlist_id = \"5KbTzqKBqxQRD8OBtJTZrS\"\n",
        "sp.user_playlist_tracks(user_id,  playlist_id)"
      ],
      "execution_count": null,
      "outputs": []
    },
    {
      "cell_type": "code",
      "metadata": {
        "id": "qUM0jv7Vfuy9"
      },
      "source": [
        "\n",
        "#functio to extract data from single playlist\n",
        "def analyze_playlist(creator, playlist_id):\n",
        "    \n",
        "    # Create empty dataframe\n",
        "    playlist_features_list = [\"artist\",\"album\",\"track_name\",  \"track_id\",\"danceability\",\"energy\",\"key\",\"loudness\",\"mode\", \"speechiness\",\"instrumentalness\",\"liveness\",\"valence\",\"tempo\", \"duration_ms\",\"time_signature\"]\n",
        "    \n",
        "    playlist_df = pd.DataFrame(columns = playlist_features_list)\n",
        "    \n",
        "    # Loop through every track in the playlist, extract features and append the features to the playlist df\n",
        "    \n",
        "    playlist = sp.user_playlist_tracks(creator, playlist_id)[\"items\"]\n",
        "    for track in playlist:\n",
        "        # Create empty dict\n",
        "        playlist_features = {}\n",
        "        # Get metadata\n",
        "        playlist_features[\"artist\"] = track[\"track\"][\"album\"][\"artists\"][0][\"name\"]\n",
        "        playlist_features[\"album\"] = track[\"track\"][\"album\"][\"name\"]\n",
        "        playlist_features[\"track_name\"] = track[\"track\"][\"name\"]\n",
        "        playlist_features[\"track_id\"] = track[\"track\"][\"id\"]\n",
        "        \n",
        "        # Get audio features\n",
        "        audio_features = sp.audio_features(playlist_features[\"track_id\"])[0]\n",
        "        for feature in playlist_features_list[4:]:\n",
        "            playlist_features[feature] = audio_features[feature]\n",
        "        \n",
        "        # Concat the dfs\n",
        "        track_df = pd.DataFrame(playlist_features, index = [0])\n",
        "        playlist_df = pd.concat([playlist_df, track_df], ignore_index = True)\n",
        "        \n",
        "    return playlist_df"
      ],
      "execution_count": null,
      "outputs": []
    },
    {
      "cell_type": "code",
      "metadata": {
        "id": "f9EBeKW7fyg9"
      },
      "source": [
        "#clean data and export to .csv using panda\n",
        "import pandas as pd\n",
        "\n",
        "#extract data into .csv file\n",
        "df = analyze_playlist(\"tjmaml1jx29bsbqeazj9vir0o\", \"5KbTzqKBqxQRD8OBtJTZrS\")\n",
        "# csv\n",
        "df.to_csv(\"spotify_output.csv\", index = False)\n",
        "# excel\n",
        "#df.to_excel(\"dataframe.xlsx\", index = False)"
      ],
      "execution_count": null,
      "outputs": []
    },
    {
      "cell_type": "code",
      "metadata": {
        "id": "-owd8McAf3mx"
      },
      "source": [
        "#function to extract from multiple playlists\n",
        "def analyze_playlist_dict(playlist_dict):\n",
        "    \n",
        "    # Loop through every playlist in the dict and analyze it\n",
        "    for i, (key, val) in enumerate(playlist_dict.items()):\n",
        "        playlist_df = analyze_playlist(*val)\n",
        "        # Add a playlist column so that we can see which playlist a track belongs too\n",
        "        playlist_df[\"playlist\"] = key\n",
        "        # Create or concat df\n",
        "        if i == 0:\n",
        "            playlist_dict_df = playlist_df\n",
        "        else:\n",
        "            playlist_dict_df = pd.concat([playlist_dict_df, playlist_df], ignore_index = True)\n",
        "            \n",
        "    return playlist_dict_df"
      ],
      "execution_count": null,
      "outputs": []
    },
    {
      "cell_type": "code",
      "metadata": {
        "id": "Sk3O2nFUf9Nh"
      },
      "source": [
        "#create multiple playlist ids Dict\n",
        "playlist_dict = {\n",
        " \"warm_fuzzy_feeling\" : (\"tjmaml1jx29bsbqeazj9vir0o\", \"37i9dQZF1DX5IDTimEWoTd\"), \n",
        " \"love_songs_heart\" : (\"tjmaml1jx29bsbqeazj9vir0o\", \"5KbTzqKBqxQRD8OBtJTZrS\"),\n",
        " \"romance_songs\" : (\"tjmaml1jx29bsbqeazj9vir0o\", \"7sAUK3XK8NHH1s5vGcTBkF\"),\n",
        " \"khelani_complete\": ('tjmaml1jx29bsbqeazj9vir0o', '4R0BZVh27NUJhHGLNitU08')\n",
        "}"
      ],
      "execution_count": null,
      "outputs": []
    },
    {
      "cell_type": "code",
      "metadata": {
        "id": "th1JiVGLgAil"
      },
      "source": [
        "#extract data from multiple playlist\n",
        "multiple_playlist_df = analyze_playlist_dict(playlist_dict)\n",
        "multiple_playlist_df[\"playlist\"].value_counts()\n",
        "multiple_playlist_df.to_csv (r'/content/Spotify_multiple_playlist.csv', index = None)"
      ],
      "execution_count": null,
      "outputs": []
    },
    {
      "cell_type": "code",
      "metadata": {
        "id": "uHjGuk1AgDR8"
      },
      "source": [
        "#test spotipy in-built modules for audio analysis \n",
        "#track_id =\"\"\n",
        "#sp.audio_analysis(track_id)\n",
        "#sp.audio_features(track_id)\n"
      ],
      "execution_count": null,
      "outputs": []
    }
  ]
}