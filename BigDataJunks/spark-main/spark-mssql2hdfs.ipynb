{
 "cells": [
  {
   "cell_type": "code",
   "execution_count": 1,
   "metadata": {},
   "outputs": [],
   "source": [
    "from pyspark.sql import SparkSession\n",
    "from pyspark import SparkConf,SQLContext,HiveContext,SparkContext"
   ]
  },
  {
   "cell_type": "code",
   "execution_count": 2,
   "metadata": {},
   "outputs": [],
   "source": [
    "spark = SparkSession.builder.appName(\"mssql_Spark_DF\").master(\"local[*]\")\\\n",
    "                    .config(\"spark.jars\",\"/home/morara/Downloads/spark-3.0.0-bin-hadoop2.7/jars/mssql-jdbc-8.4.1.jre8.jar\").getOrCreate()"
   ]
  },
  {
   "cell_type": "code",
   "execution_count": 3,
   "metadata": {},
   "outputs": [],
   "source": [
    "sc = spark.sparkContext\n",
    "sqlc = SQLContext(sc)"
   ]
  },
  {
   "cell_type": "code",
   "execution_count": 4,
   "metadata": {},
   "outputs": [
    {
     "name": "stdout",
     "output_type": "stream",
     "text": [
      "<SparkContext master=local[*] appName=mssql_Spark_DF>\n"
     ]
    }
   ],
   "source": [
    "print(sc)"
   ]
  },
  {
   "cell_type": "code",
   "execution_count": 5,
   "metadata": {},
   "outputs": [],
   "source": [
    "wal401_df = spark.read \\\n",
    "    .format(\"jdbc\") \\\n",
    "    .option('url', \"jdbc:sqlserver://localhost:1433;databaseName=walstore4\") \\\n",
    "    .option('user', 'SA') \\\n",
    "    .option('password', 'C3v6g7@mn') \\\n",
    "    .option('dbtable', 'walst_401') \\\n",
    "    .load()"
   ]
  },
  {
   "cell_type": "code",
   "execution_count": 6,
   "metadata": {},
   "outputs": [],
   "source": [
    "wal402_df = spark.read \\\n",
    "    .format(\"jdbc\") \\\n",
    "    .option('url', \"jdbc:sqlserver://localhost:1433;databaseName=walstore4\") \\\n",
    "    .option('user', \"SA\") \\\n",
    "    .option('password', \"C3v6g7@mn\") \\\n",
    "    .option('dbtable', 'walst_402') \\\n",
    "    .load()"
   ]
  },
  {
   "cell_type": "code",
   "execution_count": 7,
   "metadata": {},
   "outputs": [],
   "source": [
    "wal403_df = spark.read \\\n",
    "    .format(\"jdbc\") \\\n",
    "    .option('url', \"jdbc:sqlserver://localhost:1433;databaseName=walstore4\") \\\n",
    "    .option('user', \"SA\") \\\n",
    "    .option('password', \"C3v6g7@mn\") \\\n",
    "    .option('dbtable', 'walst_403') \\\n",
    "    .load()"
   ]
  },
  {
   "cell_type": "code",
   "execution_count": 8,
   "metadata": {},
   "outputs": [],
   "source": [
    "wal401_df.write.format(\"csv\").save(\"/user/input/walstore4/walst_401\")"
   ]
  },
  {
   "cell_type": "code",
   "execution_count": 9,
   "metadata": {},
   "outputs": [],
   "source": [
    "wal402_df.write.format(\"csv\").save(\"/user/input/walstore4/walst_402\")"
   ]
  },
  {
   "cell_type": "code",
   "execution_count": 10,
   "metadata": {},
   "outputs": [],
   "source": [
    "wal403_df.write.format(\"csv\").save(\"/user/input/walstore4/walst_403\")"
   ]
  },
  {
   "cell_type": "code",
   "execution_count": null,
   "metadata": {},
   "outputs": [],
   "source": []
  }
 ],
 "metadata": {
  "kernelspec": {
   "display_name": "Python 3",
   "language": "python",
   "name": "python3"
  },
  "language_info": {
   "codemirror_mode": {
    "name": "ipython",
    "version": 3
   },
   "file_extension": ".py",
   "mimetype": "text/x-python",
   "name": "python",
   "nbconvert_exporter": "python",
   "pygments_lexer": "ipython3",
   "version": "3.8.3"
  }
 },
 "nbformat": 4,
 "nbformat_minor": 4
}
