{
 "cells": [
  {
   "cell_type": "code",
   "execution_count": 1,
   "metadata": {},
   "outputs": [],
   "source": [
    "from pyspark.sql import SparkSession, Row\n",
    "from pyspark import SparkConf,SQLContext,HiveContext,SparkContext\n",
    "from os.path import abspath"
   ]
  },
  {
   "cell_type": "code",
   "execution_count": 2,
   "metadata": {},
   "outputs": [],
   "source": [
    "warehouse_loc =abspath('spark-warehouse')\n",
    "\n",
    "spark = SparkSession.builder.appName(\"hiveSparkavro2orc\").master(\"local[*]\")\\\n",
    "                    .config(\"spark.jars\",\"/home/morara/Downloads/spark-3.0.0-bin-hadoop2.7/jars\")\\\n",
    "                    .config(\"spark.sql.warehouse.dir\", warehouse_loc)\\\n",
    "                    .enableHiveSupport()\\\n",
    "                    .getOrCreate()"
   ]
  },
  {
   "cell_type": "code",
   "execution_count": 3,
   "metadata": {},
   "outputs": [],
   "source": [
    "walint101_df= spark.sql('select * from raw.walstext101avro');\n",
    "walint102_df= spark.sql('select * from raw.walstext102avro');\n",
    "walint103_df= spark.sql('select * from raw.walstext103avro');\n",
    "walint201_df= spark.sql('select * from raw.walstext201avro');\n",
    "walint202_df= spark.sql('select * from raw.walstext202avro');\n",
    "walint203_df= spark.sql('select * from raw.walstext203avro');\n",
    "walint301_df= spark.sql('select * from raw.walstext301avro');\n",
    "walint302_df= spark.sql('select * from raw.walstext302avro');\n",
    "walint303_df= spark.sql('select * from raw.walstext303avro');\n",
    "walint401_df= spark.sql('select * from raw.walstext401avro');\n",
    "walint402_df= spark.sql('select * from raw.walstext402avro');\n",
    "walint403_df= spark.sql('select * from raw.walstext403avro');"
   ]
  },
  {
   "cell_type": "code",
   "execution_count": 4,
   "metadata": {},
   "outputs": [],
   "source": [
    "walint101_df.write.format('orc').saveAsTable('dsl.walst101orc');\n",
    "walint102_df.write.format('orc').saveAsTable('dsl.walst102orc');\n",
    "walint103_df.write.format('orc').saveAsTable('dsl.walst103orc');\n",
    "walint201_df.write.format('orc').saveAsTable('dsl.walst201orc');\n",
    "walint202_df.write.format('orc').saveAsTable('dsl.walst202orc');\n",
    "walint203_df.write.format('orc').saveAsTable('dsl.walst203orc');\n",
    "walint301_df.write.format('orc').saveAsTable('dsl.walst301orc');\n",
    "walint302_df.write.format('orc').saveAsTable('dsl.walst302orc');\n",
    "walint303_df.write.format('orc').saveAsTable('dsl.walst303orc');\n",
    "walint401_df.write.format('orc').saveAsTable('dsl.walst401orc');\n",
    "walint402_df.write.format('orc').saveAsTable('dsl.walst402orc');\n",
    "walint403_df.write.format('orc').saveAsTable('dsl.walst403orc');"
   ]
  },
  {
   "cell_type": "code",
   "execution_count": 5,
   "metadata": {},
   "outputs": [],
   "source": [
    "#spark.sql(\"select * from walst101orc limit 3;\")"
   ]
  }
 ],
 "metadata": {
  "kernelspec": {
   "display_name": "Python 3",
   "language": "python",
   "name": "python3"
  },
  "language_info": {
   "codemirror_mode": {
    "name": "ipython",
    "version": 3
   },
   "file_extension": ".py",
   "mimetype": "text/x-python",
   "name": "python",
   "nbconvert_exporter": "python",
   "pygments_lexer": "ipython3",
   "version": "3.8.3"
  }
 },
 "nbformat": 4,
 "nbformat_minor": 4
}
