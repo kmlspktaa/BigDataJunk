{
 "cells": [
  {
   "cell_type": "code",
   "execution_count": 1,
   "metadata": {},
   "outputs": [],
   "source": [
    "from pyspark.sql import SparkSession\n",
    "from pyspark import SparkConf,SQLContext,HiveContext,SparkContext"
   ]
  },
  {
   "cell_type": "code",
   "execution_count": 2,
   "metadata": {},
   "outputs": [],
   "source": [
    "spark = SparkSession.builder.appName(\"Posgres_Spark_DF\").master(\"local[*]\")\\\n",
    "                    .config(\"spark.jars\",\"/home/morara/Downloads/spark-3.0.0-bin-hadoop2.7/jars/mysql-connector-java-8.0.17.jar\").getOrCreate()"
   ]
  },
  {
   "cell_type": "code",
   "execution_count": 3,
   "metadata": {},
   "outputs": [],
   "source": [
    "sc = spark.sparkContext\n",
    "sqlc = SQLContext(sc)"
   ]
  },
  {
   "cell_type": "code",
   "execution_count": 4,
   "metadata": {},
   "outputs": [
    {
     "name": "stdout",
     "output_type": "stream",
     "text": [
      "<SparkContext master=local[*] appName=Posgres_Spark_DF>\n"
     ]
    }
   ],
   "source": [
    "print(sc)"
   ]
  },
  {
   "cell_type": "code",
   "execution_count": 5,
   "metadata": {},
   "outputs": [],
   "source": [
    "wal201_df = spark.read \\\n",
    "    .format(\"jdbc\") \\\n",
    "    .option('url', 'jdbc:postgresql://localhost:5432/walstore2') \\\n",
    "    .option('user', 'morara') \\\n",
    "    .option('password', 'd3barl') \\\n",
    "    .option('dbtable', 'walst_201') \\\n",
    "    .load()"
   ]
  },
  {
   "cell_type": "code",
   "execution_count": 6,
   "metadata": {},
   "outputs": [],
   "source": [
    "wal202_df = spark.read \\\n",
    "    .format(\"jdbc\") \\\n",
    "    .option('url', 'jdbc:postgresql://localhost:5432/walstore2') \\\n",
    "    .option('user', 'morara') \\\n",
    "    .option('password', 'd3barl') \\\n",
    "    .option('dbtable', 'walst_202') \\\n",
    "    .load()"
   ]
  },
  {
   "cell_type": "code",
   "execution_count": 7,
   "metadata": {},
   "outputs": [],
   "source": [
    "wal203_df = spark.read \\\n",
    "    .format(\"jdbc\") \\\n",
    "    .option('url', 'jdbc:postgresql://localhost:5432/walstore2') \\\n",
    "    .option('user', 'morara') \\\n",
    "    .option('password', 'd3barl') \\\n",
    "    .option('dbtable', 'walst_203') \\\n",
    "    .load()"
   ]
  },
  {
   "cell_type": "code",
   "execution_count": 11,
   "metadata": {},
   "outputs": [],
   "source": [
    "wal201_df.write.format(\"csv\").save(\"/user/input/walstore2/walst_201\")"
   ]
  },
  {
   "cell_type": "code",
   "execution_count": 12,
   "metadata": {},
   "outputs": [],
   "source": [
    "wal202_df.write.format(\"csv\").save(\"/user/input/walstore2/walst_202\")"
   ]
  },
  {
   "cell_type": "code",
   "execution_count": 13,
   "metadata": {},
   "outputs": [],
   "source": [
    "wal203_df.write.format(\"csv\").save(\"/user/input/walstore2/walst_203\")"
   ]
  },
  {
   "cell_type": "code",
   "execution_count": null,
   "metadata": {},
   "outputs": [],
   "source": []
  }
 ],
 "metadata": {
  "kernelspec": {
   "display_name": "Python 3",
   "language": "python",
   "name": "python3"
  },
  "language_info": {
   "codemirror_mode": {
    "name": "ipython",
    "version": 3
   },
   "file_extension": ".py",
   "mimetype": "text/x-python",
   "name": "python",
   "nbconvert_exporter": "python",
   "pygments_lexer": "ipython3",
   "version": "3.8.3"
  }
 },
 "nbformat": 4,
 "nbformat_minor": 4
}
