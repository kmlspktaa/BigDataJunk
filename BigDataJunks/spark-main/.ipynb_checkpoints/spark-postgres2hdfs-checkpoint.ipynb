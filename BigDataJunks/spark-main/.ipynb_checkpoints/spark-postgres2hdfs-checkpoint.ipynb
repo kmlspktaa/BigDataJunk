{
 "cells": [
  {
   "cell_type": "code",
   "execution_count": 1,
   "metadata": {},
   "outputs": [],
   "source": [
    "from pyspark.sql import SparkSession\n",
    "from pyspark import SparkConf,SQLContext,HiveContext,SparkContext"
   ]
  },
  {
   "cell_type": "code",
   "execution_count": 2,
   "metadata": {},
   "outputs": [],
   "source": [
    "spark = SparkSession.builder.appName(\"Mysql_Spark_DF\").master(\"local[*]\")\\\n",
    "                    .config(\"spark.jars\",\"/home/morara/Downloads/spark-3.0.0-bin-hadoop2.7/jars/mysql-connector-java-8.0.17.jar\").getOrCreate()"
   ]
  },
  {
   "cell_type": "code",
   "execution_count": 3,
   "metadata": {},
   "outputs": [],
   "source": [
    "sc = spark.sparkContext\n",
    "sqlc = SQLContext(sc)"
   ]
  },
  {
   "cell_type": "code",
   "execution_count": 4,
   "metadata": {},
   "outputs": [
    {
     "name": "stdout",
     "output_type": "stream",
     "text": [
      "<SparkContext master=local[*] appName=Mysql_Spark_DF>\n"
     ]
    }
   ],
   "source": [
    "print(sc)"
   ]
  },
  {
   "cell_type": "code",
   "execution_count": 5,
   "metadata": {},
   "outputs": [],
   "source": [
    "wal101_df = spark.read \\\n",
    "    .format(\"jdbc\") \\\n",
    "    .option('url', 'jdbc:mysql://localhost:3306/walstore1') \\\n",
    "    .option('user', 'morara') \\\n",
    "    .option('password', 'd3barl') \\\n",
    "    .option('dbtable', 'walst_101') \\\n",
    "    .load()"
   ]
  },
  {
   "cell_type": "code",
   "execution_count": 6,
   "metadata": {},
   "outputs": [],
   "source": [
    "wal102_df = spark.read \\\n",
    "    .format(\"jdbc\") \\\n",
    "    .option('url', 'jdbc:mysql://localhost:3306/walstore1') \\\n",
    "    .option('user', 'morara') \\\n",
    "    .option('password', 'd3barl') \\\n",
    "    .option('dbtable', 'walst_102') \\\n",
    "    .load()"
   ]
  },
  {
   "cell_type": "code",
   "execution_count": 7,
   "metadata": {},
   "outputs": [],
   "source": [
    "wal103_df = spark.read \\\n",
    "    .format(\"jdbc\") \\\n",
    "    .option('url', 'jdbc:mysql://localhost:3306/walstore1') \\\n",
    "    .option('user', 'morara') \\\n",
    "    .option('password', 'd3barl') \\\n",
    "    .option('dbtable', 'walst_103') \\\n",
    "    .load()"
   ]
  },
  {
   "cell_type": "code",
   "execution_count": 8,
   "metadata": {},
   "outputs": [],
   "source": [
    "wal101_df.write.format(\"csv\").save(\"/user/input/walstore1/walst_101\")"
   ]
  },
  {
   "cell_type": "code",
   "execution_count": 9,
   "metadata": {},
   "outputs": [],
   "source": [
    "wal102_df.write.format(\"csv\").save(\"/user/input/walstore1/walst_102\")"
   ]
  },
  {
   "cell_type": "code",
   "execution_count": 10,
   "metadata": {},
   "outputs": [],
   "source": [
    "wal103_df.write.format(\"csv\").save(\"/user/input/walstore1/walst_103\")"
   ]
  }
 ],
 "metadata": {
  "kernelspec": {
   "display_name": "Python 3",
   "language": "python",
   "name": "python3"
  },
  "language_info": {
   "codemirror_mode": {
    "name": "ipython",
    "version": 3
   },
   "file_extension": ".py",
   "mimetype": "text/x-python",
   "name": "python",
   "nbconvert_exporter": "python",
   "pygments_lexer": "ipython3",
   "version": "3.8.3"
  }
 },
 "nbformat": 4,
 "nbformat_minor": 4
}
