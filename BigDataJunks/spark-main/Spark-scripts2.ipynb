{
 "cells": [
  {
   "cell_type": "code",
   "execution_count": 3,
   "metadata": {},
   "outputs": [
    {
     "name": "stdout",
     "output_type": "stream",
     "text": [
      "use hivehbase;\n",
      "select * from walst101hvhb limit 3;\n",
      "select * from walst102hvhb limit 3;\n",
      "select * from walst103hvhb limit 3;\n",
      "select * from walst201hvhb limit 3;\n",
      "select * from walst202hvhb limit 3;\n",
      "select * from walst203hvhb limit 3;\n",
      "select * from walst301hvhb limit 3;\n",
      "select * from walst302hvhb limit 3;\n",
      "select * from walst303hvhb limit 3;\n",
      "select * from walst401hvhb limit 3;\n",
      "select * from walst402hvhb limit 3;\n",
      "select * from walst403hvhb limit 3;\n",
      "\n"
     ]
    }
   ],
   "source": [
    "print(\"use hivehbase;\")\n",
    "for i in range(1,5):\n",
    "    for j in range(1,4):\n",
    "        print(f\"select * from walst{(100*i)+j}hvhb limit 3;\");\n",
    "print()"
   ]
  },
  {
   "cell_type": "code",
   "execution_count": 2,
   "metadata": {},
   "outputs": [
    {
     "name": "stdout",
     "output_type": "stream",
     "text": [
      "use dsl;\n",
      "select * from walst101 limit 3;\n",
      "select * from walst102 limit 3;\n",
      "select * from walst103 limit 3;\n",
      "select * from walst201 limit 3;\n",
      "select * from walst202 limit 3;\n",
      "select * from walst203 limit 3;\n",
      "select * from walst301 limit 3;\n",
      "select * from walst302 limit 3;\n",
      "select * from walst303 limit 3;\n",
      "select * from walst401 limit 3;\n",
      "select * from walst402 limit 3;\n",
      "select * from walst403 limit 3;\n",
      ";\n"
     ]
    }
   ],
   "source": [
    "print(\"use dsl;\")\n",
    "for i in range(1,5):\n",
    "    for j in range(1,4):\n",
    "        print(f\"select * from walst{(100*i)+j} limit 3;\");\n",
    "print(\";\")"
   ]
  },
  {
   "cell_type": "code",
   "execution_count": 1,
   "metadata": {},
   "outputs": [
    {
     "name": "stdout",
     "output_type": "stream",
     "text": [
      "use raw;\n",
      "select * from walstext101 limit 3;\n",
      "select * from walstext102 limit 3;\n",
      "select * from walstext103 limit 3;\n",
      "select * from walstext201 limit 3;\n",
      "select * from walstext202 limit 3;\n",
      "select * from walstext203 limit 3;\n",
      "select * from walstext301 limit 3;\n",
      "select * from walstext302 limit 3;\n",
      "select * from walstext303 limit 3;\n",
      "select * from walstext401 limit 3;\n",
      "select * from walstext402 limit 3;\n",
      "select * from walstext403 limit 3;\n",
      ";\n"
     ]
    }
   ],
   "source": [
    "print(\"use raw;\")\n",
    "for i in range(1,5):\n",
    "    for j in range(1,4):\n",
    "        print(f\"select * from walstext{(100*i)+j} limit 3;\");\n",
    "print(\";\")"
   ]
  },
  {
   "cell_type": "code",
   "execution_count": 1,
   "metadata": {},
   "outputs": [
    {
     "name": "stdout",
     "output_type": "stream",
     "text": [
      "walst101orc_df= spark.sql('select * from dsl.walst101orc')\n",
      "walst102orc_df= spark.sql('select * from dsl.walst102orc')\n",
      "walst103orc_df= spark.sql('select * from dsl.walst103orc')\n",
      "walst201orc_df= spark.sql('select * from dsl.walst201orc')\n",
      "walst202orc_df= spark.sql('select * from dsl.walst202orc')\n",
      "walst203orc_df= spark.sql('select * from dsl.walst203orc')\n",
      "walst301orc_df= spark.sql('select * from dsl.walst301orc')\n",
      "walst302orc_df= spark.sql('select * from dsl.walst302orc')\n",
      "walst303orc_df= spark.sql('select * from dsl.walst303orc')\n",
      "walst401orc_df= spark.sql('select * from dsl.walst401orc')\n",
      "walst402orc_df= spark.sql('select * from dsl.walst402orc')\n",
      "walst403orc_df= spark.sql('select * from dsl.walst403orc')\n"
     ]
    }
   ],
   "source": [
    "for i in range(1,5):\n",
    "    for j in range(1,4):\n",
    "        print(f\"walst{(100*i)+j}orc_df= spark.sql('select * from dsl.walst{(100*i)+j}orc')\")"
   ]
  },
  {
   "cell_type": "code",
   "execution_count": 3,
   "metadata": {},
   "outputs": [
    {
     "name": "stdout",
     "output_type": "stream",
     "text": [
      "walst101orc_df.write.format('jdbc').option('url', 'jdbc:mysql://localhost:3306/walstore_all').option('user', 'morara').option('password', 'd3barl').option('dbtable', 'walst_101b').save()\n",
      "walst102orc_df.write.format('jdbc').option('url', 'jdbc:mysql://localhost:3306/walstore_all').option('user', 'morara').option('password', 'd3barl').option('dbtable', 'walst_102b').save()\n",
      "walst103orc_df.write.format('jdbc').option('url', 'jdbc:mysql://localhost:3306/walstore_all').option('user', 'morara').option('password', 'd3barl').option('dbtable', 'walst_103b').save()\n",
      "walst201orc_df.write.format('jdbc').option('url', 'jdbc:mysql://localhost:3306/walstore_all').option('user', 'morara').option('password', 'd3barl').option('dbtable', 'walst_201b').save()\n",
      "walst202orc_df.write.format('jdbc').option('url', 'jdbc:mysql://localhost:3306/walstore_all').option('user', 'morara').option('password', 'd3barl').option('dbtable', 'walst_202b').save()\n",
      "walst203orc_df.write.format('jdbc').option('url', 'jdbc:mysql://localhost:3306/walstore_all').option('user', 'morara').option('password', 'd3barl').option('dbtable', 'walst_203b').save()\n",
      "walst301orc_df.write.format('jdbc').option('url', 'jdbc:mysql://localhost:3306/walstore_all').option('user', 'morara').option('password', 'd3barl').option('dbtable', 'walst_301b').save()\n",
      "walst302orc_df.write.format('jdbc').option('url', 'jdbc:mysql://localhost:3306/walstore_all').option('user', 'morara').option('password', 'd3barl').option('dbtable', 'walst_302b').save()\n",
      "walst303orc_df.write.format('jdbc').option('url', 'jdbc:mysql://localhost:3306/walstore_all').option('user', 'morara').option('password', 'd3barl').option('dbtable', 'walst_303b').save()\n",
      "walst401orc_df.write.format('jdbc').option('url', 'jdbc:mysql://localhost:3306/walstore_all').option('user', 'morara').option('password', 'd3barl').option('dbtable', 'walst_401b').save()\n",
      "walst402orc_df.write.format('jdbc').option('url', 'jdbc:mysql://localhost:3306/walstore_all').option('user', 'morara').option('password', 'd3barl').option('dbtable', 'walst_402b').save()\n",
      "walst403orc_df.write.format('jdbc').option('url', 'jdbc:mysql://localhost:3306/walstore_all').option('user', 'morara').option('password', 'd3barl').option('dbtable', 'walst_403b').save()\n"
     ]
    }
   ],
   "source": [
    "for i in range(1,5):\n",
    "    for j in range(1,4):\n",
    "        print(f\"walst{(100*i)+j}orc_df.write.format('jdbc').option('url', 'jdbc:mysql://localhost:3306/walstore_all').option('user', 'morara').option('password', 'd3barl').option('dbtable', 'walst_{(100*i)+j}b').save()\")"
   ]
  },
  {
   "cell_type": "code",
   "execution_count": null,
   "metadata": {},
   "outputs": [],
   "source": []
  }
 ],
 "metadata": {
  "kernelspec": {
   "display_name": "Python 3",
   "language": "python",
   "name": "python3"
  },
  "language_info": {
   "codemirror_mode": {
    "name": "ipython",
    "version": 3
   },
   "file_extension": ".py",
   "mimetype": "text/x-python",
   "name": "python",
   "nbconvert_exporter": "python",
   "pygments_lexer": "ipython3",
   "version": "3.8.3"
  }
 },
 "nbformat": 4,
 "nbformat_minor": 4
}
